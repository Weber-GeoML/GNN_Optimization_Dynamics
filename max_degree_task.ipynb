{
 "cells": [
  {
   "cell_type": "code",
   "execution_count": 1,
   "id": "04116cac-3e0c-46bd-a71d-01a911029f22",
   "metadata": {},
   "outputs": [
    {
     "name": "stderr",
     "output_type": "stream",
     "text": [
      "/n/home07/lfesser/.conda/envs/borf/lib/python3.9/site-packages/tqdm/auto.py:22: TqdmWarning: IProgress not found. Please update jupyter and ipywidgets. See https://ipywidgets.readthedocs.io/en/stable/user_install.html\n",
      "  from .autonotebook import tqdm as notebook_tqdm\n"
     ]
    }
   ],
   "source": [
    "import os\n",
    "import pickle\n",
    "import networkx as nx\n",
    "from tqdm import tqdm\n",
    "import torch\n",
    "import numpy as np\n",
    "import math\n",
    "\n",
    "from torch_geometric.datasets import TUDataset\n",
    "from torch_geometric.data import Data\n",
    "from torch_geometric.utils import to_networkx, from_networkx, to_dense_adj\n",
    "import torch_geometric.transforms as T\n",
    "from torch_geometric.loader import DataLoader"
   ]
  },
  {
   "cell_type": "code",
   "execution_count": 2,
   "id": "da3c44a4-6ddc-4c10-946f-6a43fba0e765",
   "metadata": {},
   "outputs": [],
   "source": [
    "def generate_max_degree_graph(num_nodes: int, topology: str=\"complete\",\n",
    "                              random_features: str=\"gaussian\", feature_dim: int=1) -> Data:\n",
    "    assert num_nodes > 0\n",
    "    assert topology in [\"complete\", \"path\", \"cycle\", \"regular\", \"tree\"], \"Error: unknown topology\" # need to implement more\n",
    "    assert random_features in [\"gaussian\"], \"Error: unknown feature distribution\" # need to implement more\n",
    "    assert feature_dim > 0\n",
    "    \n",
    "    # create a networkx graph with the desired topology\n",
    "    if topology == \"complete\":\n",
    "        raw_graph = create_complete_graph(num_nodes)\n",
    "        \n",
    "    if topology == \"path\":\n",
    "        raw_graph = create_path_graph(num_nodes)\n",
    "        \n",
    "    if topology == \"cycle\":\n",
    "        raw_graph = create_cycle_graph(num_nodes)\n",
    "        \n",
    "    if topology == \"regular\":\n",
    "        raw_graph = create_4_regular_grid_graph(num_nodes, num_nodes)\n",
    "        \n",
    "    if topology == \"tree\":\n",
    "        raw_graph = create_binary_tree(num_nodes)\n",
    "        \n",
    "    # add random features from the desired distribution\n",
    "    if random_features == \"gaussian\":\n",
    "        attributed_graph = add_gaussian_node_features(raw_graph, feature_dim)\n",
    "    \n",
    "    # convert the networkx graph to pytorch geometric's Data format\n",
    "    pyg_graph = from_networkx(attributed_graph)\n",
    "    \n",
    "    # add the max degree as the graph label\n",
    "    pyg_graph.y = torch.tensor([max(dict(attributed_graph.degree()).values())])\n",
    "    \n",
    "    return pyg_graph"
   ]
  },
  {
   "cell_type": "code",
   "execution_count": 16,
   "id": "29790d86-2986-4d6d-aa3d-8a0ca91e43f2",
   "metadata": {},
   "outputs": [],
   "source": [
    "# max degree task on complete graphs\n",
    "\n",
    "random_integers = np.random.randint(10, 101, size=1000)\n",
    "graphs = [generate_max_degree_graph(num_nodes=nodes, topology='tree', feature_dim=10) for nodes in random_integers]"
   ]
  },
  {
   "cell_type": "code",
   "execution_count": 17,
   "id": "1f7e3e10-f5dc-45cd-8914-163a63b0a5fb",
   "metadata": {},
   "outputs": [],
   "source": [
    "file_path = \"synthetic_data/max_degree_task/tree_graphs.pkl\"\n",
    "\n",
    "with open(file_path, 'wb') as f:\n",
    "    pickle.dump(graphs, f)"
   ]
  },
  {
   "cell_type": "code",
   "execution_count": 4,
   "id": "362f2593-1bfb-4f3e-b2c8-c939ca8c9f4c",
   "metadata": {},
   "outputs": [],
   "source": [
    "# topologies\n",
    "\n",
    "def create_complete_graph(num_nodes: int) -> nx.graph:\n",
    "    complete_graph = nx.complete_graph(num_nodes).to_undirected()\n",
    "    return complete_graph\n",
    "\n",
    "def create_path_graph(num_nodes: int) -> nx.Graph:\n",
    "    path_graph = nx.path_graph(num_nodes)\n",
    "    return path_graph\n",
    "\n",
    "def create_cycle_graph(num_nodes: int) -> nx.Graph:\n",
    "    cycle_graph = nx.cycle_graph(num_nodes)\n",
    "    return cycle_graph\n",
    "\n",
    "def create_4_regular_grid_graph(rows: int, cols: int) -> nx.Graph:    \n",
    "    grid_graph = nx.grid_2d_graph(rows, cols, periodic=True)  # Wraps around for 4-regular structure\n",
    "    grid_graph =  nx.convert_node_labels_to_integers(grid_graph)\n",
    "    for node in grid_graph.nodes:\n",
    "        grid_graph.nodes[node].clear()\n",
    "    return grid_graph\n",
    "\n",
    "def create_binary_tree(num_nodes: int) -> nx.Graph:\n",
    "    max_depth = math.ceil(math.log2(num_nodes + 1)) - 1\n",
    "    tree = nx.balanced_tree(r=2, h=max_depth)    \n",
    "    return tree"
   ]
  },
  {
   "cell_type": "code",
   "execution_count": 5,
   "id": "d0a9dee9-013d-4c16-a5bf-9e0bc31fa86e",
   "metadata": {},
   "outputs": [],
   "source": [
    "# node feature distributions\n",
    "\n",
    "def add_gaussian_node_features(G: nx.graph, k: int) -> nx.graph:\n",
    "    mean = np.zeros(k)\n",
    "    cov = np.eye(k)\n",
    "\n",
    "    for node in G.nodes():\n",
    "        G.nodes[node]['features'] = np.random.multivariate_normal(mean, cov)\n",
    "\n",
    "    return G"
   ]
  }
 ],
 "metadata": {
  "kernelspec": {
   "display_name": "borf_2",
   "language": "python",
   "name": "borf_2"
  },
  "language_info": {
   "codemirror_mode": {
    "name": "ipython",
    "version": 3
   },
   "file_extension": ".py",
   "mimetype": "text/x-python",
   "name": "python",
   "nbconvert_exporter": "python",
   "pygments_lexer": "ipython3",
   "version": "3.9.13"
  }
 },
 "nbformat": 4,
 "nbformat_minor": 5
}
