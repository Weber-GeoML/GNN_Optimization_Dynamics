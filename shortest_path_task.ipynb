{
 "cells": [
  {
   "cell_type": "code",
   "execution_count": 39,
   "id": "879fd9df-2bf1-4e28-b45d-fec396e8ffc5",
   "metadata": {},
   "outputs": [],
   "source": [
    "import os\n",
    "import pickle\n",
    "import networkx as nx\n",
    "from tqdm import tqdm\n",
    "import torch\n",
    "from torch.nn import (\n",
    "    BatchNorm1d,\n",
    "    Embedding,\n",
    "    Linear,\n",
    "    ModuleList,\n",
    "    ReLU,\n",
    "    Sequential,\n",
    ")\n",
    "from torch.optim.lr_scheduler import ReduceLROnPlateau\n",
    "\n",
    "import numpy as np\n",
    "import math\n",
    "\n",
    "from torch_geometric.datasets import TUDataset\n",
    "from torch_geometric.data import Data\n",
    "from torch_geometric.utils import to_networkx, from_networkx, to_dense_adj\n",
    "import torch_geometric.transforms as T\n",
    "from torch_geometric.loader import DataLoader\n",
    "from torch_geometric.nn import GCNConv, global_mean_pool, global_add_pool, global_max_pool"
   ]
  },
  {
   "cell_type": "code",
   "execution_count": 31,
   "id": "42dde64d-fae7-4a99-8bdb-73f4be00879b",
   "metadata": {},
   "outputs": [],
   "source": [
    "def generate_shortest_path_graph(num_nodes: int, topology: str = \"complete\") -> Data:\n",
    "    assert num_nodes > 0\n",
    "    assert topology in [\"complete\", \"path\", \"cycle\", \"regular\", \"tree\", \"ER\"], \"Error: unknown topology\"  # Extend this list for other topologies\n",
    "    \n",
    "    # Create a networkx graph with the desired topology\n",
    "    if topology == \"complete\":\n",
    "        raw_graph = create_complete_graph(num_nodes)\n",
    "\n",
    "    if topology == \"path\":\n",
    "        raw_graph = create_path_graph(num_nodes)\n",
    "\n",
    "    if topology == \"cycle\":\n",
    "        raw_graph = create_cycle_graph(num_nodes)\n",
    "\n",
    "    if topology == \"regular\":\n",
    "        raw_graph = create_4_regular_grid_graph(num_nodes, num_nodes)\n",
    "\n",
    "    if topology == \"tree\":\n",
    "        raw_graph = create_binary_tree(num_nodes)\n",
    "        \n",
    "    if topology == \"ER\":\n",
    "        raw_graph = create_er_graph(num_nodes)\n",
    "\n",
    "    # Randomly select two nodes to be relevant\n",
    "    relevant_nodes = np.random.choice(raw_graph.nodes(), 2, replace=False)\n",
    "    \n",
    "    # Add features to nodes: 1 for relevant nodes, 0 for others\n",
    "    for node in raw_graph.nodes():\n",
    "        raw_graph.nodes[node]['x'] = 1 if node in relevant_nodes else 0\n",
    "\n",
    "    # Convert the NetworkX graph to PyTorch Geometric's Data format\n",
    "    attributed_graph = from_networkx(raw_graph)\n",
    "    \n",
    "    # Calculate the shortest path distance between the two relevant nodes\n",
    "    shortest_path_length = nx.shortest_path_length(raw_graph, source=relevant_nodes[0], target=relevant_nodes[1])\n",
    "    \n",
    "    # Add the distance as the graph label\n",
    "    attributed_graph.y = torch.tensor([shortest_path_length])\n",
    "    \n",
    "    return attributed_graph"
   ]
  },
  {
   "cell_type": "code",
   "execution_count": 177,
   "id": "d926bab5-b0c1-49a3-9d4a-c5236cf1bb87",
   "metadata": {},
   "outputs": [],
   "source": [
    "# shortest path task on complete graphs\n",
    "\n",
    "random_integers = np.random.randint(10, 101, size=1000)\n",
    "graphs = [generate_shortest_path_graph(num_nodes=nodes, topology='complete') for nodes in random_integers]"
   ]
  },
  {
   "cell_type": "code",
   "execution_count": 175,
   "id": "e036d08a-4653-4e6f-ba0d-bb366892393c",
   "metadata": {},
   "outputs": [
    {
     "name": "stdout",
     "output_type": "stream",
     "text": [
      "2.15819287109375\n"
     ]
    }
   ],
   "source": [
    "test_dataset = graphs\n",
    "\n",
    "test_loader = DataLoader(test_dataset, batch_size=64)\n",
    "\n",
    "test_mae = test(test_loader, model, device, optimizer)\n",
    "print(test_mae)"
   ]
  },
  {
   "cell_type": "code",
   "execution_count": 33,
   "id": "a89a57c0-17d7-4ab2-8e5d-15bf2f901ab3",
   "metadata": {},
   "outputs": [],
   "source": [
    "# topologies\n",
    "\n",
    "def create_complete_graph(num_nodes: int) -> nx.graph:\n",
    "    complete_graph = nx.complete_graph(num_nodes).to_undirected()\n",
    "    return complete_graph\n",
    "\n",
    "def create_path_graph(num_nodes: int) -> nx.Graph:\n",
    "    path_graph = nx.path_graph(num_nodes)\n",
    "    return path_graph\n",
    "\n",
    "def create_cycle_graph(num_nodes: int) -> nx.Graph:\n",
    "    cycle_graph = nx.cycle_graph(num_nodes)\n",
    "    return cycle_graph\n",
    "\n",
    "def create_4_regular_grid_graph(rows: int, cols: int) -> nx.Graph:    \n",
    "    grid_graph = nx.grid_2d_graph(rows, cols, periodic=True)  # Wraps around for 4-regular structure\n",
    "    grid_graph =  nx.convert_node_labels_to_integers(grid_graph)\n",
    "    for node in grid_graph.nodes:\n",
    "        grid_graph.nodes[node].clear()\n",
    "    return grid_graph\n",
    "\n",
    "def create_binary_tree(num_nodes: int) -> nx.Graph:\n",
    "    max_depth = math.ceil(math.log2(num_nodes + 1)) - 1\n",
    "    tree = nx.balanced_tree(r=2, h=max_depth)    \n",
    "    return tree\n",
    "\n",
    "def create_er_graph(num_nodes, probability=0.5):\n",
    "    G = nx.erdos_renyi_graph(n=num_nodes, p=probability)\n",
    "    return G"
   ]
  },
  {
   "cell_type": "markdown",
   "id": "3eebc446-426b-4d1c-bbd4-8b13bb47f055",
   "metadata": {},
   "source": [
    "## Train an example model"
   ]
  },
  {
   "cell_type": "code",
   "execution_count": 178,
   "id": "47509aeb-447a-40e4-8a3f-c60e2c6a4843",
   "metadata": {},
   "outputs": [],
   "source": [
    "class GCN(torch.nn.Module):\n",
    "    def __init__(self, channels, num_layers):\n",
    "        super().__init__()\n",
    "        \n",
    "        self.node_emb = Linear(1, channels)\n",
    "        self.pe_norm = BatchNorm1d(20)\n",
    "        self.edge_emb = Linear(3, channels)\n",
    "        \n",
    "        self.convs = ModuleList()\n",
    "        for _ in range(num_layers):\n",
    "            conv = GCNConv(channels, channels, normalize=True)\n",
    "            self.convs.append(conv)       \n",
    "            \n",
    "        self.mlp = Sequential(\n",
    "            Linear(channels, channels),\n",
    "            ReLU(),\n",
    "            Linear(channels, channels // 2),\n",
    "            ReLU(),\n",
    "            Linear(channels // 2, channels // 4),\n",
    "            ReLU(),\n",
    "            Linear(channels // 4, 1),\n",
    "        )\n",
    "        \n",
    "\n",
    "    def forward(self, x, edge_index, edge_attr, batch):\n",
    "        # dropout = Dropout(0.5)\n",
    "        x = x.float()\n",
    "        # print(f\"x shape before reshape: {x.shape}\")\n",
    "        x = x.view(-1, 1)  # Reshape to (batch_size, 1)\n",
    "        # print(f\"x shape after reshape: {x.shape}\")\n",
    "\n",
    "        # print(f\"x shape before node_emb: {x.shape}\")\n",
    "        # print(x)\n",
    "        # x = self.node_emb(x.squeeze(-1))\n",
    "        # print(f\"x shape after node_emb: {x.shape}\")\n",
    "        x = self.node_emb(x)\n",
    "        \n",
    "        for conv in self.convs:\n",
    "            x = conv(x, edge_index)\n",
    "            # x = dropout(x)\n",
    "        x = global_max_pool(x, batch)\n",
    "        return self.mlp(x)"
   ]
  },
  {
   "cell_type": "code",
   "execution_count": 179,
   "id": "f343ca67-2c0d-40d3-be8b-e54771430268",
   "metadata": {},
   "outputs": [],
   "source": [
    "def train(train_loader, model, device, optimizer):\n",
    "    model.train()\n",
    "\n",
    "    total_loss = 0\n",
    "    for data in train_loader:\n",
    "        data = data.to(device)\n",
    "        optimizer.zero_grad()\n",
    "        # model.redraw_projection.redraw_projections()\n",
    "        # out = model(data.x, data.pe, data.edge_index, data.edge_attr, data.batch)\n",
    "        out = model(data.x, data.edge_index, data.edge_attr, data.batch)\n",
    "        loss = (out.squeeze() - data.y).abs().mean()\n",
    "        loss.backward()\n",
    "        total_loss += loss.item() * data.num_graphs\n",
    "        optimizer.step()\n",
    "    return total_loss / len(train_loader.dataset)\n",
    "\n",
    "\n",
    "@torch.no_grad()\n",
    "def test(loader, model, device, optimizer):\n",
    "    model.eval()\n",
    "\n",
    "    total_error = 0\n",
    "    for data in loader:\n",
    "        data = data.to(device)\n",
    "        # out = model(data.x, data.pe, data.edge_index, data.edge_attr, data.batch)\n",
    "        out = model(data.x, data.edge_index, data.edge_attr, data.batch)\n",
    "        total_error += (out.squeeze() - data.y).abs().sum().item()\n",
    "    return total_error / len(loader.dataset)"
   ]
  },
  {
   "cell_type": "code",
   "execution_count": 186,
   "id": "c3ca4f21-48e0-4551-9d76-6fc7f4d283cf",
   "metadata": {},
   "outputs": [],
   "source": [
    "device = 'cpu' # torch.device('cuda' if torch.cuda.is_available() else 'cpu')\n",
    "model = GCN(channels=4, num_layers=12).to(device)\n",
    "optimizer = torch.optim.Adam(model.parameters(), lr=0.0001, weight_decay=1e-5)\n",
    "scheduler = ReduceLROnPlateau(optimizer, mode='min', factor=0.5, patience=10,\n",
    "                              min_lr=0.000001)"
   ]
  },
  {
   "cell_type": "code",
   "execution_count": 187,
   "id": "0f3dbc29-f4db-4cdd-a021-e541a6ff05ca",
   "metadata": {},
   "outputs": [],
   "source": [
    "train_dataset = graphs[:500]\n",
    "val_dataset = graphs[500:750]\n",
    "test_dataset = graphs[750:]\n",
    "\n",
    "train_loader = DataLoader(train_dataset, batch_size=32, shuffle=True)\n",
    "val_loader = DataLoader(val_dataset, batch_size=64)\n",
    "test_loader = DataLoader(test_dataset, batch_size=64)"
   ]
  },
  {
   "cell_type": "code",
   "execution_count": 151,
   "id": "39e7e00d-9c6c-44de-a300-de644ea92f1d",
   "metadata": {},
   "outputs": [],
   "source": [
    "optimizer = torch.optim.Adam(model.parameters(), lr=0.00001, weight_decay=1e-5)"
   ]
  },
  {
   "cell_type": "code",
   "execution_count": null,
   "id": "45ab59f1-4727-4d81-8da0-02265f24d4df",
   "metadata": {},
   "outputs": [
    {
     "name": "stdout",
     "output_type": "stream",
     "text": [
      "Epoch: 01, Loss: 0.5455, Val: 0.5446, Test: 0.5446\n",
      "Epoch: 02, Loss: 0.5439, Val: 0.5430, Test: 0.5430\n",
      "Epoch: 03, Loss: 0.5423, Val: 0.5414, Test: 0.5414\n",
      "Epoch: 04, Loss: 0.5407, Val: 0.5398, Test: 0.5398\n",
      "Epoch: 05, Loss: 0.5391, Val: 0.5382, Test: 0.5382\n",
      "Epoch: 06, Loss: 0.5375, Val: 0.5366, Test: 0.5366\n",
      "Epoch: 07, Loss: 0.5359, Val: 0.5350, Test: 0.5350\n",
      "Epoch: 08, Loss: 0.5343, Val: 0.5334, Test: 0.5334\n",
      "Epoch: 09, Loss: 0.5327, Val: 0.5318, Test: 0.5318\n",
      "Epoch: 10, Loss: 0.5311, Val: 0.5302, Test: 0.5302\n",
      "Epoch: 11, Loss: 0.5295, Val: 0.5286, Test: 0.5286\n",
      "Epoch: 12, Loss: 0.5279, Val: 0.5270, Test: 0.5270\n",
      "Epoch: 13, Loss: 0.5263, Val: 0.5254, Test: 0.5254\n",
      "Epoch: 14, Loss: 0.5247, Val: 0.5238, Test: 0.5238\n",
      "Epoch: 15, Loss: 0.5231, Val: 0.5222, Test: 0.5222\n",
      "Epoch: 16, Loss: 0.5215, Val: 0.5206, Test: 0.5206\n",
      "Epoch: 17, Loss: 0.5199, Val: 0.5190, Test: 0.5190\n",
      "Epoch: 18, Loss: 0.5183, Val: 0.5174, Test: 0.5174\n",
      "Epoch: 19, Loss: 0.5167, Val: 0.5158, Test: 0.5158\n",
      "Epoch: 20, Loss: 0.5151, Val: 0.5142, Test: 0.5142\n",
      "Epoch: 21, Loss: 0.5135, Val: 0.5126, Test: 0.5126\n",
      "Epoch: 22, Loss: 0.5119, Val: 0.5110, Test: 0.5110\n",
      "Epoch: 23, Loss: 0.5103, Val: 0.5094, Test: 0.5094\n"
     ]
    }
   ],
   "source": [
    "for epoch in range(1, 101):\n",
    "    loss = train(train_loader, model, device, optimizer)\n",
    "    val_mae = test(val_loader, model, device, optimizer)\n",
    "    test_mae = test(test_loader, model, device, optimizer)\n",
    "    scheduler.step(val_mae)\n",
    "    print(f'Epoch: {epoch:02d}, Loss: {loss:.4f}, Val: {val_mae:.4f}, '\n",
    "          f'Test: {test_mae:.4f}')"
   ]
  }
 ],
 "metadata": {
  "kernelspec": {
   "display_name": "borf_2",
   "language": "python",
   "name": "borf_2"
  },
  "language_info": {
   "codemirror_mode": {
    "name": "ipython",
    "version": 3
   },
   "file_extension": ".py",
   "mimetype": "text/x-python",
   "name": "python",
   "nbconvert_exporter": "python",
   "pygments_lexer": "ipython3",
   "version": "3.9.13"
  }
 },
 "nbformat": 4,
 "nbformat_minor": 5
}
