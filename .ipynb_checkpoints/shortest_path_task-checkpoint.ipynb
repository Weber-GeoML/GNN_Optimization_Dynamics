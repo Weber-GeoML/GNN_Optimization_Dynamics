{
 "cells": [
  {
   "cell_type": "code",
   "execution_count": 1,
   "id": "879fd9df-2bf1-4e28-b45d-fec396e8ffc5",
   "metadata": {},
   "outputs": [
    {
     "name": "stderr",
     "output_type": "stream",
     "text": [
      "/n/home07/lfesser/.conda/envs/borf/lib/python3.9/site-packages/tqdm/auto.py:22: TqdmWarning: IProgress not found. Please update jupyter and ipywidgets. See https://ipywidgets.readthedocs.io/en/stable/user_install.html\n",
      "  from .autonotebook import tqdm as notebook_tqdm\n"
     ]
    }
   ],
   "source": [
    "import os\n",
    "import pickle\n",
    "import networkx as nx\n",
    "from tqdm import tqdm\n",
    "import torch\n",
    "import numpy as np\n",
    "import math\n",
    "\n",
    "from torch_geometric.datasets import TUDataset\n",
    "from torch_geometric.data import Data\n",
    "from torch_geometric.utils import to_networkx, from_networkx, to_dense_adj\n",
    "import torch_geometric.transforms as T\n",
    "from torch_geometric.loader import DataLoader"
   ]
  },
  {
   "cell_type": "code",
   "execution_count": 9,
   "id": "42dde64d-fae7-4a99-8bdb-73f4be00879b",
   "metadata": {},
   "outputs": [],
   "source": [
    "def generate_shortest_path_graph(num_nodes: int, topology: str = \"complete\") -> Data:\n",
    "    assert num_nodes > 0\n",
    "    assert topology in [\"complete\", \"path\", \"cycle\", \"regular\", \"tree\"], \"Error: unknown topology\"  # Extend this list for other topologies\n",
    "    \n",
    "    # Create a networkx graph with the desired topology\n",
    "    if topology == \"complete\":\n",
    "        raw_graph = create_complete_graph(num_nodes)\n",
    "\n",
    "    if topology == \"path\":\n",
    "        raw_graph = create_path_graph(num_nodes)\n",
    "\n",
    "    if topology == \"cycle\":\n",
    "        raw_graph = create_cycle_graph(num_nodes)\n",
    "\n",
    "    if topology == \"regular\":\n",
    "        raw_graph = create_4_regular_grid_graph(num_nodes, num_nodes)\n",
    "\n",
    "    if topology == \"tree\":\n",
    "        raw_graph = create_binary_tree(num_nodes)\n",
    "\n",
    "    # Randomly select two nodes to be relevant\n",
    "    relevant_nodes = np.random.choice(raw_graph.nodes(), 2, replace=False)\n",
    "    \n",
    "    # Add features to nodes: 1 for relevant nodes, 0 for others\n",
    "    for node in raw_graph.nodes():\n",
    "        raw_graph.nodes[node]['feature'] = 1 if node in relevant_nodes else 0\n",
    "\n",
    "    # Convert the NetworkX graph to PyTorch Geometric's Data format\n",
    "    attributed_graph = from_networkx(raw_graph)\n",
    "    \n",
    "    # Calculate the shortest path distance between the two relevant nodes\n",
    "    shortest_path_length = nx.shortest_path_length(raw_graph, source=relevant_nodes[0], target=relevant_nodes[1])\n",
    "    \n",
    "    # Add the distance as the graph label\n",
    "    attributed_graph.y = torch.tensor([shortest_path_length])\n",
    "    \n",
    "    return attributed_graph"
   ]
  },
  {
   "cell_type": "code",
   "execution_count": 6,
   "id": "aed7d3e3-cc19-4ad1-838f-f228964acc35",
   "metadata": {},
   "outputs": [
    {
     "data": {
      "text/plain": [
       "Data(edge_index=[2, 20], feature=[5], num_nodes=5, y=1)"
      ]
     },
     "execution_count": 6,
     "metadata": {},
     "output_type": "execute_result"
    }
   ],
   "source": [
    "complete_graphs[0]"
   ]
  },
  {
   "cell_type": "code",
   "execution_count": 10,
   "id": "d926bab5-b0c1-49a3-9d4a-c5236cf1bb87",
   "metadata": {},
   "outputs": [],
   "source": [
    "# shortest path task on complete graphs\n",
    "\n",
    "random_integers = np.random.randint(5, 51, size=1000)\n",
    "complete_graphs = [generate_shortest_path_graph(num_nodes=nodes) for nodes in random_integers]"
   ]
  },
  {
   "cell_type": "code",
   "execution_count": 5,
   "id": "91bef9d0-8ef5-4342-acec-947ec0c7423c",
   "metadata": {},
   "outputs": [],
   "source": [
    "file_path = \"synthetic_data/shortest_path_task/complete_graphs.pkl\"\n",
    "\n",
    "with open(file_path, 'wb') as f:\n",
    "    pickle.dump(complete_graphs, f)"
   ]
  },
  {
   "cell_type": "code",
   "execution_count": 3,
   "id": "a89a57c0-17d7-4ab2-8e5d-15bf2f901ab3",
   "metadata": {},
   "outputs": [],
   "source": [
    "# topologies\n",
    "\n",
    "def create_complete_graph(num_nodes: int) -> nx.graph:\n",
    "    complete_graph = nx.complete_graph(num_nodes).to_undirected()\n",
    "    return complete_graph\n",
    "\n",
    "def create_path_graph(num_nodes: int) -> nx.Graph:\n",
    "    path_graph = nx.path_graph(num_nodes)\n",
    "    return path_graph\n",
    "\n",
    "def create_cycle_graph(num_nodes: int) -> nx.Graph:\n",
    "    cycle_graph = nx.cycle_graph(num_nodes)\n",
    "    return cycle_graph\n",
    "\n",
    "def create_4_regular_grid_graph(rows: int, cols: int) -> nx.Graph:    \n",
    "    grid_graph = nx.grid_2d_graph(rows, cols, periodic=True)  # Wraps around for 4-regular structure\n",
    "    grid_graph =  nx.convert_node_labels_to_integers(grid_graph)\n",
    "    for node in grid_graph.nodes:\n",
    "        grid_graph.nodes[node].clear()\n",
    "    return grid_graph\n",
    "\n",
    "def create_binary_tree(num_nodes: int) -> nx.Graph:\n",
    "    max_depth = math.ceil(math.log2(num_nodes + 1)) - 1\n",
    "    tree = nx.balanced_tree(r=2, h=max_depth)    \n",
    "    return tree"
   ]
  }
 ],
 "metadata": {
  "kernelspec": {
   "display_name": "borf_2",
   "language": "python",
   "name": "borf_2"
  },
  "language_info": {
   "codemirror_mode": {
    "name": "ipython",
    "version": 3
   },
   "file_extension": ".py",
   "mimetype": "text/x-python",
   "name": "python",
   "nbconvert_exporter": "python",
   "pygments_lexer": "ipython3",
   "version": "3.9.13"
  }
 },
 "nbformat": 4,
 "nbformat_minor": 5
}
